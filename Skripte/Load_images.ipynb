{
 "cells": [
  {
   "cell_type": "code",
   "execution_count": 1,
   "id": "29953c08",
   "metadata": {},
   "outputs": [],
   "source": [
    "import csv"
   ]
  },
  {
   "cell_type": "code",
   "execution_count": 2,
   "id": "26f03533",
   "metadata": {},
   "outputs": [],
   "source": [
    "def compare_csv_files(file1, file2):\n",
    "    \"\"\"\n",
    "    Compare two CSV files and return a list of differences between them.\n",
    "    \n",
    "    Parameters:\n",
    "    file1 (str): Path to the first CSV file\n",
    "    file2 (str): path to the second CSV file\n",
    "    \n",
    "    Returns:\n",
    "    list: A list of dictionaries, where each dictionary represents a row that is different between the two CSV files.\n",
    "    \"\"\"\n",
    "    \n",
    "    #read the content of both files\n",
    "    with open(file1, 'r') as f1, open(file2, 'r') as f2:\n",
    "        reader1 = csv.reader(f1)\n",
    "        reader2 = csv.reader(f2)\n",
    "        file1_rows = [row for row in reader1]\n",
    "        file2_rows = [row for row in reader2]\n",
    "        \n",
    "    #compare the rows in both files\n",
    "    differences = []\n",
    "    for i in range(len(file1_rows)):\n",
    "        if i >= len(file2_rows):\n",
    "            differences.append({'row': i+1, 'file1': file1_rows[i], 'file2': []})\n",
    "        elif file1_rows[i] != file2_rows[i]:\n",
    "            differences.append({'row':i+1, 'file1':file1_rows[i], 'file2': file2_rows[i]})\n",
    "            \n",
    "    #add any extra rows in file2 that are not in file1\n",
    "    for i in range(len(file1_rows), len(file2_rows)):\n",
    "        differences.append({'row': i+1, 'file1': [], 'file2': file2_rows[i]})\n",
    "    \n",
    "    return differences"
   ]
  },
  {
   "cell_type": "code",
   "execution_count": 4,
   "id": "c627288a",
   "metadata": {},
   "outputs": [],
   "source": [
    "diffs = compare_csv_files('out.csv', 'out_2023-05-11.csv')"
   ]
  },
  {
   "cell_type": "code",
   "execution_count": 5,
   "id": "1496bc9d",
   "metadata": {},
   "outputs": [
    {
     "name": "stdout",
     "output_type": "stream",
     "text": [
      "Number of differences:  3\n"
     ]
    }
   ],
   "source": [
    "print(\"Number of differences: \", len(diffs))"
   ]
  },
  {
   "cell_type": "code",
   "execution_count": 6,
   "id": "54ae834e",
   "metadata": {},
   "outputs": [
    {
     "name": "stdout",
     "output_type": "stream",
     "text": [
      "[{'row': 32, 'file1': ['10.05.23', 'Â\\xa018:00', 'D2', '19', 'SGM TSV Hardthausen KoBra I', 'SGM Ilsfeld-Abstatt-Beilstein ABI II', 'www.fussball.de/export.media/-/action/getLogo/format/3/id/00ES8GNAUG0000AOVV0AG08LVUPGND5I', 'www.fussball.de/export.media/-/action/getLogo/format/3/id/00ES8GNAVO00002GVV0AG08LVUPGND5I', 'https://www.fussball.de/mannschaft/sgm-tsv-hardthausen-kobra-i-tsv-hardthausen-wuerttemberg/-/saison/2223/team-id/02IOFB8KS4000000VS5489B1VSO9MMK0', 'https://www.fussball.de/mannschaft/sgm-ilsfeld-abstatt-beilstein-abi-ii-sc-ilsfeld-wuerttemberg/-/saison/2223/team-id/011MIBO1P0000000VTVG0001VTR8C1K7', 'https://www.fussball.de/spiel/sgm-tsv-hardthausen-kobra-i-sgm-ilsfeld-abstatt-beilstein-abi-ii/-/spiel/02KCT2KSCS000000VS5489B4VU1O1RVG'], 'file2': ['20.05.23', 'Â\\xa009:30', 'D2', '20', 'SGM Ilsfeld-Abstatt-Beilstein ABI II', 'TV Flein II', 'www.fussball.de/export.media/-/action/getLogo/format/3/id/00ES8GNAVO00002GVV0AG08LVUPGND5I', 'www.fussball.de/export.media/-/action/getLogo/format/3/id/00ES8GNAUG00006JVV0AG08LVUPGND5I', 'https://www.fussball.de/mannschaft/sgm-ilsfeld-abstatt-beilstein-abi-ii-sc-ilsfeld-wuerttemberg/-/saison/2223/team-id/011MIBO1P0000000VTVG0001VTR8C1K7', 'https://www.fussball.de/mannschaft/tv-flein-ii-tv-flein-wuerttemberg/-/saison/2223/team-id/011MI9J3H4000000VTVG0001VTR8C1K7', 'https://www.fussball.de/spiel/sgm-ilsfeld-abstatt-beilstein-abi-ii-tv-flein-ii/-/spiel/02KCT2KSH8000000VS5489B4VU1O1RVG']}, {'row': 33, 'file1': ['20.05.23', 'Â\\xa009:30', 'D2', '20', 'SGM Ilsfeld-Abstatt-Beilstein ABI II', 'TV Flein II', 'www.fussball.de/export.media/-/action/getLogo/format/3/id/00ES8GNAVO00002GVV0AG08LVUPGND5I', 'www.fussball.de/export.media/-/action/getLogo/format/3/id/00ES8GNAUG00006JVV0AG08LVUPGND5I', 'https://www.fussball.de/mannschaft/sgm-ilsfeld-abstatt-beilstein-abi-ii-sc-ilsfeld-wuerttemberg/-/saison/2223/team-id/011MIBO1P0000000VTVG0001VTR8C1K7', 'https://www.fussball.de/mannschaft/tv-flein-ii-tv-flein-wuerttemberg/-/saison/2223/team-id/011MI9J3H4000000VTVG0001VTR8C1K7', 'https://www.fussball.de/spiel/sgm-ilsfeld-abstatt-beilstein-abi-ii-tv-flein-ii/-/spiel/02KCT2KSH8000000VS5489B4VU1O1RVG'], 'file2': ['17.06.23', 'Â\\xa011:10', 'D2', '24', 'SC Amorbach', 'SGM Ilsfeld-Abstatt-Beilstein ABI II', 'www.fussball.de/export.media/-/action/getLogo/format/3/id/00ES8GNAVO00009SVV0AG08LVUPGND5I', 'www.fussball.de/export.media/-/action/getLogo/format/3/id/00ES8GNAVO00002GVV0AG08LVUPGND5I', 'https://www.fussball.de/mannschaft/sc-amorbach-sc-neckarsulm-amorbach-wuerttemberg/-/saison/2223/team-id/023QH2JT0G000000VS548984VVIKHNJO', 'https://www.fussball.de/mannschaft/sgm-ilsfeld-abstatt-beilstein-abi-ii-sc-ilsfeld-wuerttemberg/-/saison/2223/team-id/011MIBO1P0000000VTVG0001VTR8C1K7', 'https://www.fussball.de/spiel/sc-amorbach-sgm-ilsfeld-abstatt-beilstein-abi-ii/-/spiel/02KCT2KSP0000000VS5489B4VU1O1RVG']}, {'row': 34, 'file1': ['17.06.23', 'Â\\xa011:10', 'D2', '24', 'SC Amorbach', 'SGM Ilsfeld-Abstatt-Beilstein ABI II', 'www.fussball.de/export.media/-/action/getLogo/format/3/id/00ES8GNAVO00009SVV0AG08LVUPGND5I', 'www.fussball.de/export.media/-/action/getLogo/format/3/id/00ES8GNAVO00002GVV0AG08LVUPGND5I', 'https://www.fussball.de/mannschaft/sc-amorbach-sc-neckarsulm-amorbach-wuerttemberg/-/saison/2223/team-id/023QH2JT0G000000VS548984VVIKHNJO', 'https://www.fussball.de/mannschaft/sgm-ilsfeld-abstatt-beilstein-abi-ii-sc-ilsfeld-wuerttemberg/-/saison/2223/team-id/011MIBO1P0000000VTVG0001VTR8C1K7', 'https://www.fussball.de/spiel/sc-amorbach-sgm-ilsfeld-abstatt-beilstein-abi-ii/-/spiel/02KCT2KSP0000000VS5489B4VU1O1RVG'], 'file2': []}]\n"
     ]
    }
   ],
   "source": [
    "print(diffs)"
   ]
  },
  {
   "cell_type": "code",
   "execution_count": 9,
   "id": "dfc566c5",
   "metadata": {},
   "outputs": [
    {
     "name": "stdout",
     "output_type": "stream",
     "text": [
      "<a href=\"../news230311_B-Junioren_Saisonvorbereitung.html\">230311_B-Junioren_Saisonvorbereitung.html</a>\n",
      "<a href=\"../news230319_B-Junioren_Spielbericht.html\">230319_B-Junioren_Spielbericht.html</a>\n",
      "<a href=\"../news230327_B-Junioren_Spielbericht.html\">230327_B-Junioren_Spielbericht.html</a>\n"
     ]
    }
   ],
   "source": [
    "import os\n",
    "\n",
    "# Ordner mit den HTML-Seiten\n",
    "folder = '../news'\n",
    "\n",
    "# Alle Dateien im Ordner durchlaufen\n",
    "for file in os.listdir(folder):\n",
    "    # Nur HTML-Dateien verarbeiten\n",
    "    if file.endswith('.html'):\n",
    "        # Prüfen, ob das Kriterium im Dateinamen enthalten ist\n",
    "        if 'B-Junioren' in file:\n",
    "            # Link generieren\n",
    "            link = '<a href=\"' + folder + file + '\">' + file + '</a>'\n",
    "            # Link ausgeben\n",
    "            print(link)\n"
   ]
  },
  {
   "cell_type": "code",
   "execution_count": 10,
   "id": "98aa104a",
   "metadata": {},
   "outputs": [
    {
     "name": "stdout",
     "output_type": "stream",
     "text": [
      "<ul>\n",
      "<li><a href=\"230311_B-Junioren_Saisonvorbereitung.html\">230311_B-Junioren_Saisonvorbereitung.html</a></li>\n",
      "<li><a href=\"230312_A-Junioren_Zusammenfassung.html\">230312_A-Junioren_Zusammenfassung.html</a></li>\n",
      "<li><a href=\"230312_C1-Junioren_Trainingswochenende.html\">230312_C1-Junioren_Trainingswochenende.html</a></li>\n",
      "<li><a href=\"230318_A-Junioren_Spielbericht.html\">230318_A-Junioren_Spielbericht.html</a></li>\n",
      "<li><a href=\"230319_B-Junioren_Spielbericht.html\">230319_B-Junioren_Spielbericht.html</a></li>\n",
      "<li><a href=\"230319_C2-Junioren_Spezialtraining.html\">230319_C2-Junioren_Spezialtraining.html</a></li>\n",
      "<li><a href=\"230322_B2-Junioren_Spielbericht.html\">230322_B2-Junioren_Spielbericht.html</a></li>\n",
      "<li><a href=\"230326_A-Junioren_Spielbericht.html\">230326_A-Junioren_Spielbericht.html</a></li>\n",
      "<li><a href=\"230326_C-Junioren_Spielbericht.html\">230326_C-Junioren_Spielbericht.html</a></li>\n",
      "<li><a href=\"230327_B-Junioren_Spielbericht.html\">230327_B-Junioren_Spielbericht.html</a></li>\n",
      "<li><a href=\"news_template.html\">news_template.html</a></li>\n",
      "</ul>\n"
     ]
    }
   ],
   "source": [
    "import os\n",
    "import datetime\n",
    "\n",
    "# Ordner mit HTML-Dateien\n",
    "folder = '../news'\n",
    "\n",
    "# Liste der HTML-Dateien im Ordner\n",
    "html_files = [file for file in os.listdir(folder) if file.endswith('.html')]\n",
    "\n",
    "# Liste der Dateinamen und Erstellungsdaten\n",
    "files_and_dates = []\n",
    "\n",
    "# Schleife durch die HTML-Dateien und Abrufen der Erstellungsdaten\n",
    "for file in html_files:\n",
    "    file_path = os.path.join(folder, file)\n",
    "    created_date = datetime.datetime.fromtimestamp(os.path.getctime(file_path))\n",
    "    files_and_dates.append((file, created_date))\n",
    "\n",
    "# Liste der Dateinamen nach dem Erstellungsdatum sortieren\n",
    "sorted_files = sorted(files_and_dates, key=lambda x: x[1])\n",
    "\n",
    "# HTML-Liste der sortierten Dateinamen generieren\n",
    "html_list = '<ul>\\n'\n",
    "for file in sorted_files:\n",
    "    html_list += f'<li><a href=\"{file[0]}\">{file[0]}</a></li>\\n'\n",
    "html_list += '</ul>'\n",
    "\n",
    "# HTML-Liste ausgeben\n",
    "print(html_list)\n"
   ]
  },
  {
   "cell_type": "code",
   "execution_count": null,
   "id": "ad57e408",
   "metadata": {},
   "outputs": [],
   "source": []
  }
 ],
 "metadata": {
  "kernelspec": {
   "display_name": "Python [conda env:.conda-py38]",
   "language": "python",
   "name": "conda-env-.conda-py38-py"
  },
  "language_info": {
   "codemirror_mode": {
    "name": "ipython",
    "version": 3
   },
   "file_extension": ".py",
   "mimetype": "text/x-python",
   "name": "python",
   "nbconvert_exporter": "python",
   "pygments_lexer": "ipython3",
   "version": "3.8.10"
  }
 },
 "nbformat": 4,
 "nbformat_minor": 5
}
