{
 "cells": [
  {
   "cell_type": "code",
   "execution_count": 1,
   "id": "29953c08",
   "metadata": {},
   "outputs": [],
   "source": [
    "import csv"
   ]
  },
  {
   "cell_type": "code",
   "execution_count": 2,
   "id": "26f03533",
   "metadata": {},
   "outputs": [],
   "source": [
    "def compare_csv_files(file1, file2):\n",
    "    \"\"\"\n",
    "    Compare two CSV files and return a list of differences between them.\n",
    "    \n",
    "    Parameters:\n",
    "    file1 (str): Path to the first CSV file\n",
    "    file2 (str): path to the second CSV file\n",
    "    \n",
    "    Returns:\n",
    "    list: A list of dictionaries, where each dictionary represents a row that is different between the two CSV files.\n",
    "    \"\"\"\n",
    "    \n",
    "    #read the content of both files\n",
    "    with open(file1, 'r') as f1, open(file2, 'r') as f2:\n",
    "        reader1 = csv.reader(f1)\n",
    "        reader2 = csv.reader(f2)\n",
    "        file1_rows = [row for row in reader1]\n",
    "        file2_rows = [row for row in reader2]\n",
    "        \n",
    "    #compare the rows in both files\n",
    "    differences = []\n",
    "    for i in range(len(file1_rows)):\n",
    "        if i >= len(file2_rows):\n",
    "            differences.append({'row': i+1, 'file1': file1_rows[i], 'file2': []})\n",
    "        elif file1_rows[i] != file2_rows[i]:\n",
    "            differences.append({'row':i+1, 'file1':file1_rows[i], 'file2': file2_rows[i]})\n",
    "            \n",
    "    #add any extra rows in file2 that are not in file1\n",
    "    for i in range(len(file1_rows), len(file2_rows)):\n",
    "        differences.append({'row': i+1, 'file1': [], 'file2': file2_rows[i]})\n",
    "    \n",
    "    return differences"
   ]
  },
  {
   "cell_type": "code",
   "execution_count": 3,
   "id": "c627288a",
   "metadata": {},
   "outputs": [],
   "source": [
    "diffs = compare_csv_files('out1.csv', 'out_2023-05-10.csv')"
   ]
  },
  {
   "cell_type": "code",
   "execution_count": 6,
   "id": "1496bc9d",
   "metadata": {},
   "outputs": [
    {
     "name": "stdout",
     "output_type": "stream",
     "text": [
      "Number of differences:  35\n"
     ]
    }
   ],
   "source": [
    "print(\"Number of differences: \", len(diffs))"
   ]
  },
  {
   "cell_type": "code",
   "execution_count": null,
   "id": "54ae834e",
   "metadata": {},
   "outputs": [],
   "source": []
  }
 ],
 "metadata": {
  "kernelspec": {
   "display_name": "Python [conda env:.conda-py38]",
   "language": "python",
   "name": "conda-env-.conda-py38-py"
  },
  "language_info": {
   "codemirror_mode": {
    "name": "ipython",
    "version": 3
   },
   "file_extension": ".py",
   "mimetype": "text/x-python",
   "name": "python",
   "nbconvert_exporter": "python",
   "pygments_lexer": "ipython3",
   "version": "3.8.10"
  }
 },
 "nbformat": 4,
 "nbformat_minor": 5
}
