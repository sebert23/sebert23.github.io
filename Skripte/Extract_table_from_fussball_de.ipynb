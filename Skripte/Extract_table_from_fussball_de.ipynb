{
 "cells": [
  {
   "cell_type": "code",
   "execution_count": 1,
   "metadata": {},
   "outputs": [],
   "source": [
    "import requests\n",
    "import csv\n",
    "import re\n",
    "from bs4 import BeautifulSoup\n",
    "import pandas as pd\n",
    "import datetime\n",
    "from datetime import date"
   ]
  },
  {
   "cell_type": "code",
   "execution_count": 74,
   "metadata": {},
   "outputs": [
    {
     "name": "stdout",
     "output_type": "stream",
     "text": [
      "D2\n"
     ]
    }
   ],
   "source": [
    "team_urls = pd.read_csv('Spiele_Links.csv')\n",
    "idx = 8\n",
    "print(team_urls['team'][idx])\n",
    "url = team_urls['url'][idx]\n",
    "response = requests.get(url)"
   ]
  },
  {
   "cell_type": "code",
   "execution_count": 75,
   "metadata": {},
   "outputs": [],
   "source": [
    "#BeautifulSoup HTML-Dokument aus dem Quelltext parsen\n",
    "soup= BeautifulSoup(response.text, 'html.parser')"
   ]
  },
  {
   "cell_type": "code",
   "execution_count": 76,
   "metadata": {},
   "outputs": [],
   "source": [
    "#Tabelle aus dem HTML-Dokument extrahieren\n",
    "table = soup.find('div', {\"id\":'id-team-matchplan-table'})\n",
    "#print(table)"
   ]
  },
  {
   "cell_type": "code",
   "execution_count": 77,
   "metadata": {},
   "outputs": [],
   "source": [
    "team=team_urls['team'][idx]\n",
    "#Datum und Liga auslesen (befindet sich in jeder 3. Zeile ab 2. Zeile)\n",
    "for data in table.find_all('tbody'):\n",
    "    rows = data.find_all('tr')\n",
    "    dates = list()\n",
    "    times = list()\n",
    "    teams = list()\n",
    "    kw = list()\n",
    "    for i in range(1,len(rows),3):\n",
    "        #entfernt Sonderzeichen wie Zeilenumbruch (n) und Tab (t)\n",
    "        date = rows[i].find('td', class_='column-date') #rows[i].text\n",
    "        cleanString = re.sub(r'\\ \\|',',', date.text)\n",
    "        cleanString = re.sub(r' ', '', cleanString)\n",
    "        #removedSpace = re.sub(r'\\t', '', removedSpace)\n",
    "        splitted= cleanString.split(',')\n",
    "        date_split = splitted[1].split('.')\n",
    "        datum = datetime.date(int(date_split[2])+2000, int(date_split[1]), int(date_split[0]))\n",
    "        kw.append(datum.isocalendar()[1])\n",
    "        dates.append(splitted[1])\n",
    "        times.append(splitted[2].encode('utf-8').decode('utf-8'))\n",
    "        teams.append(team)\n",
    "        \n",
    "df = pd.DataFrame(list(zip(dates,times,teams)),columns=['Datum','Zeit','Team'])\n",
    "df.insert(len(df.columns), 'KW', kw)"
   ]
  },
  {
   "cell_type": "code",
   "execution_count": 78,
   "metadata": {},
   "outputs": [],
   "source": [
    "#Club und Logo auslesen (befindet sich in jeder 3. Zeile ab 3. Zeile)\n",
    "for data in table.find_all('tbody'):\n",
    "    rows = data.find_all('tr')\n",
    "    club1 = list()\n",
    "    club2 = list()\n",
    "    for i in range(2,len(rows),3):\n",
    "        #entfernt Sonderzeichen wie Zeilenumbruch (n) und Tab (t)\n",
    "        #print(rows[i].text)\n",
    "        removedSpace = re.sub(r'\\n', '', rows[i].text)\n",
    "        removedSpace = re.sub(r'\\t', '', removedSpace)\n",
    "        removedSpace = re.sub(r':', ';', removedSpace)\n",
    "        splitted = removedSpace.split(';')\n",
    "        club1.append(splitted[0])\n",
    "        club2.append(splitted[1][0:-1])\n",
    "\n",
    "\n",
    "df.insert(len(df.columns), \"Heim\", club1)\n",
    "df.insert(len(df.columns), \"Gast\", club2)"
   ]
  },
  {
   "cell_type": "code",
   "execution_count": 79,
   "metadata": {},
   "outputs": [],
   "source": [
    "#Datum und Liga auslesen (befindet sich in jeder 3. Zeile ab 2. Zeile)\n",
    "for data in table.find_all('tbody'):\n",
    "    rows = data.find_all('tr')\n",
    "    logos_home = list()\n",
    "    logos_guest= list()\n",
    "    for i in range(2,len(rows),3):\n",
    "        #entfernt Sonderzeichen wie Zeilenumbruch (n) und Tab (t)\n",
    "        logo = rows[i].find_all('div', class_=\"club-logo\") #rows[i].text\n",
    "        \n",
    "        logo_link = re.findall(r'//(\\S+)\\\">', str(logo))\n",
    "        logos_home.append(logo_link[0])\n",
    "        logos_guest.append(logo_link[1])\n",
    "        \n",
    "#found = re.search('AAA(.+?)ZZZ', string).group(1)\n",
    "\n",
    "df.insert(len(df.columns), 'Logo Heim', logos_home)\n",
    "df.insert(len(df.columns), 'Logo Gast', logos_guest)"
   ]
  },
  {
   "cell_type": "code",
   "execution_count": 80,
   "metadata": {},
   "outputs": [
    {
     "data": {
      "text/html": [
       "<div>\n",
       "<style scoped>\n",
       "    .dataframe tbody tr th:only-of-type {\n",
       "        vertical-align: middle;\n",
       "    }\n",
       "\n",
       "    .dataframe tbody tr th {\n",
       "        vertical-align: top;\n",
       "    }\n",
       "\n",
       "    .dataframe thead th {\n",
       "        text-align: right;\n",
       "    }\n",
       "</style>\n",
       "<table border=\"1\" class=\"dataframe\">\n",
       "  <thead>\n",
       "    <tr style=\"text-align: right;\">\n",
       "      <th></th>\n",
       "      <th>Datum</th>\n",
       "      <th>Zeit</th>\n",
       "      <th>Team</th>\n",
       "      <th>KW</th>\n",
       "      <th>Heim</th>\n",
       "      <th>Gast</th>\n",
       "      <th>Logo Heim</th>\n",
       "      <th>Logo Gast</th>\n",
       "    </tr>\n",
       "  </thead>\n",
       "  <tbody>\n",
       "    <tr>\n",
       "      <th>0</th>\n",
       "      <td>17.06.23</td>\n",
       "      <td>11:10</td>\n",
       "      <td>D2</td>\n",
       "      <td>24</td>\n",
       "      <td>SC Amorbach</td>\n",
       "      <td>SGM ABI</td>\n",
       "      <td>www.fussball.de/export.media/-/action/getLogo/...</td>\n",
       "      <td>www.fussball.de/export.media/-/action/getLogo/...</td>\n",
       "    </tr>\n",
       "  </tbody>\n",
       "</table>\n",
       "</div>"
      ],
      "text/plain": [
       "      Datum    Zeit Team  KW         Heim     Gast  \\\n",
       "0  17.06.23   11:10   D2  24  SC Amorbach  SGM ABI   \n",
       "\n",
       "                                           Logo Heim  \\\n",
       "0  www.fussball.de/export.media/-/action/getLogo/...   \n",
       "\n",
       "                                           Logo Gast  \n",
       "0  www.fussball.de/export.media/-/action/getLogo/...  "
      ]
     },
     "execution_count": 80,
     "metadata": {},
     "output_type": "execute_result"
    }
   ],
   "source": [
    "df['Heim'] = df['Heim'].replace(r'SGM.*ABI.*','SGM ABI', regex=True)\n",
    "df['Gast'] = df['Gast'].replace(r'SGM.*ABI.*','SGM ABI', regex=True)\n",
    "df"
   ]
  },
  {
   "cell_type": "code",
   "execution_count": 81,
   "metadata": {},
   "outputs": [
    {
     "data": {
      "text/html": [
       "<div>\n",
       "<style scoped>\n",
       "    .dataframe tbody tr th:only-of-type {\n",
       "        vertical-align: middle;\n",
       "    }\n",
       "\n",
       "    .dataframe tbody tr th {\n",
       "        vertical-align: top;\n",
       "    }\n",
       "\n",
       "    .dataframe thead th {\n",
       "        text-align: right;\n",
       "    }\n",
       "</style>\n",
       "<table border=\"1\" class=\"dataframe\">\n",
       "  <thead>\n",
       "    <tr style=\"text-align: right;\">\n",
       "      <th></th>\n",
       "      <th>Datum</th>\n",
       "      <th>Zeit</th>\n",
       "      <th>Team</th>\n",
       "      <th>KW</th>\n",
       "      <th>Heim</th>\n",
       "      <th>Gast</th>\n",
       "      <th>Logo Heim</th>\n",
       "      <th>Logo Gast</th>\n",
       "      <th>home_link</th>\n",
       "      <th>guest_link</th>\n",
       "      <th>Spiel</th>\n",
       "    </tr>\n",
       "  </thead>\n",
       "  <tbody>\n",
       "    <tr>\n",
       "      <th>0</th>\n",
       "      <td>17.06.23</td>\n",
       "      <td>11:10</td>\n",
       "      <td>D2</td>\n",
       "      <td>24</td>\n",
       "      <td>SC Amorbach</td>\n",
       "      <td>SGM ABI</td>\n",
       "      <td>www.fussball.de/export.media/-/action/getLogo/...</td>\n",
       "      <td>www.fussball.de/export.media/-/action/getLogo/...</td>\n",
       "      <td>https://www.fussball.de/mannschaft/sc-amorbach...</td>\n",
       "      <td>https://www.fussball.de/mannschaft/sgm-ilsfeld...</td>\n",
       "      <td>https://www.fussball.de/spiel/sc-amorbach-sgm-...</td>\n",
       "    </tr>\n",
       "  </tbody>\n",
       "</table>\n",
       "</div>"
      ],
      "text/plain": [
       "      Datum    Zeit Team  KW         Heim     Gast  \\\n",
       "0  17.06.23   11:10   D2  24  SC Amorbach  SGM ABI   \n",
       "\n",
       "                                           Logo Heim  \\\n",
       "0  www.fussball.de/export.media/-/action/getLogo/...   \n",
       "\n",
       "                                           Logo Gast  \\\n",
       "0  www.fussball.de/export.media/-/action/getLogo/...   \n",
       "\n",
       "                                           home_link  \\\n",
       "0  https://www.fussball.de/mannschaft/sc-amorbach...   \n",
       "\n",
       "                                          guest_link  \\\n",
       "0  https://www.fussball.de/mannschaft/sgm-ilsfeld...   \n",
       "\n",
       "                                               Spiel  \n",
       "0  https://www.fussball.de/spiel/sc-amorbach-sgm-...  "
      ]
     },
     "execution_count": 81,
     "metadata": {},
     "output_type": "execute_result"
    }
   ],
   "source": [
    "links = table.find_all('a')\n",
    "homeLinks = list();\n",
    "guestLinks = list();\n",
    "spielLinks = list();\n",
    "for i in range(2, len(links),6):\n",
    "    homeLinks.append(links[i].get('href'))\n",
    "    guestLinks.append(links[i+1].get('href'))\n",
    "    spielLinks.append(links[i+2].get('href'))\n",
    "df.insert(len(df.columns), \"home_link\", homeLinks)\n",
    "df.insert(len(df.columns), 'guest_link', guestLinks)\n",
    "df.insert(len(df.columns), 'Spiel', spielLinks)\n",
    "df"
   ]
  },
  {
   "cell_type": "code",
   "execution_count": 82,
   "metadata": {},
   "outputs": [],
   "source": [
    "#merge columns to table\n",
    "if (idx==0):\n",
    "    df.to_csv('out.csv', index=False, encoding=\"utf-8\")\n",
    "else:\n",
    "    df.to_csv('out.csv', mode='a', index=False, header=False, encoding=\"utf-8\")\n",
    "\n"
   ]
  },
  {
   "cell_type": "code",
   "execution_count": null,
   "metadata": {},
   "outputs": [],
   "source": []
  },
  {
   "cell_type": "code",
   "execution_count": null,
   "metadata": {},
   "outputs": [],
   "source": []
  }
 ],
 "metadata": {
  "kernelspec": {
   "display_name": "Python 3",
   "language": "python",
   "name": "python3"
  },
  "language_info": {
   "codemirror_mode": {
    "name": "ipython",
    "version": 3
   },
   "file_extension": ".py",
   "mimetype": "text/x-python",
   "name": "python",
   "nbconvert_exporter": "python",
   "pygments_lexer": "ipython3",
   "version": "3.7.6"
  }
 },
 "nbformat": 4,
 "nbformat_minor": 4
}
