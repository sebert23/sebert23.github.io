{
 "cells": [
  {
   "cell_type": "code",
   "execution_count": 7,
   "metadata": {},
   "outputs": [],
   "source": [
    "from PIL import Image\n",
    "from PIL.ExifTags import TAGS\n",
    "import os\n",
    "import shutil"
   ]
  },
  {
   "cell_type": "code",
   "execution_count": 8,
   "metadata": {},
   "outputs": [],
   "source": [
    "def get_image_creation_date(image_path):\n",
    "    try:\n",
    "        image = Image.open(image_path)\n",
    "        exif_data = image._getexif()\n",
    "        if exif_data is not None:\n",
    "            for tag, value in exif_data.items():\n",
    "                if TAGS.get(tag) == 'DateTimeOriginal':\n",
    "                    return value.split(\" \")[0] # nur das Datum zurückgeben\n",
    "    except (IOError, AttributeError):\n",
    "        pass\n",
    "\n",
    "    return None\n",
    "\n"
   ]
  },
  {
   "cell_type": "code",
   "execution_count": 9,
   "metadata": {},
   "outputs": [],
   "source": [
    "def rename_and_resize_files(directory, out_path, max_dimension, team):\n",
    "    counter = 0\n",
    "    for filename in os.listdir(directory):\n",
    "        \n",
    "        file_path = os.path.join(directory, filename)\n",
    "        creation_date = get_image_creation_date(file_path)\n",
    "        if creation_date is not None:\n",
    "            counter += 1\n",
    "            new_filename = f\"{creation_date.replace(':', '')}_{team}_{str(counter).zfill(3)}.jpg\"\n",
    "            new_file_path = os.path.join(out_path, new_filename)\n",
    "            #shutil.copy(file_path, new_file_path)\n",
    "            \n",
    "            # Bild öffnen und Größe verändern\n",
    "            image = Image.open(file_path)\n",
    "            image.thumbnail((max_dimension, max_dimension), Image.ANTIALIAS)\n",
    "            image.save(new_file_path, \"JPEG\")\n",
    "            print(f\"Umbenannt: {filename} -> {new_filename}\")\n",
    "        else:\n",
    "            print(f\"Kein Erstellungsdatum vorhanden für: {filename}\")\n",
    "            "
   ]
  },
  {
   "cell_type": "code",
   "execution_count": 10,
   "metadata": {},
   "outputs": [
    {
     "name": "stdout",
     "output_type": "stream",
     "text": [
      "Umbenannt: PY210872.JPG -> 20230625_C1-Junioren_Stetten_001.jpg\n",
      "Umbenannt: PY210938.JPG -> 20230625_C1-Junioren_Stetten_002.jpg\n",
      "Kein Erstellungsdatum vorhanden für: .DS_Store\n",
      "Umbenannt: PY210915.JPG -> 20230625_C1-Junioren_Stetten_003.jpg\n",
      "Umbenannt: PY211000.JPG -> 20230625_C1-Junioren_Stetten_004.jpg\n",
      "Umbenannt: PY210971.JPG -> 20230625_C1-Junioren_Stetten_005.jpg\n",
      "Umbenannt: PY210806.JPG -> 20230625_C1-Junioren_Stetten_006.jpg\n",
      "Umbenannt: PY210998.JPG -> 20230625_C1-Junioren_Stetten_007.jpg\n",
      "Umbenannt: PY210797.JPG -> 20230625_C1-Junioren_Stetten_008.jpg\n",
      "Umbenannt: PY210962.JPG -> 20230625_C1-Junioren_Stetten_009.jpg\n",
      "Umbenannt: PY210814.JPG -> 20230625_C1-Junioren_Stetten_010.jpg\n",
      "Umbenannt: PY210951.JPG -> 20230625_C1-Junioren_Stetten_011.jpg\n",
      "Umbenannt: PY210946.JPG -> 20230625_C1-Junioren_Stetten_012.jpg\n",
      "Umbenannt: PY210837.JPG -> 20230625_C1-Junioren_Stetten_013.jpg\n",
      "Umbenannt: PY210823.JPG -> 20230625_C1-Junioren_Stetten_014.jpg\n",
      "Umbenannt: PY210809.JPG -> 20230625_C1-Junioren_Stetten_015.jpg\n",
      "Umbenannt: PY210926.JPG -> 20230625_C1-Junioren_Stetten_016.jpg\n",
      "Umbenannt: PY210844.JPG -> 20230625_C1-Junioren_Stetten_017.jpg\n",
      "Umbenannt: PY210887.JPG -> 20230625_C1-Junioren_Stetten_018.jpg\n",
      "Umbenannt: PY210930.JPG -> 20230625_C1-Junioren_Stetten_019.jpg\n",
      "Umbenannt: PY210869.JPG -> 20230625_C1-Junioren_Stetten_020.jpg\n",
      "Umbenannt: PY210841.JPG -> 20230625_C1-Junioren_Stetten_021.jpg\n",
      "Umbenannt: PY210895.JPG -> 20230625_C1-Junioren_Stetten_022.jpg\n"
     ]
    }
   ],
   "source": [
    "directory = '/Users/sandra/Downloads/blah/'\n",
    "out_path = '/Users/sandra/Documents/GitHub/sebert23.github.io/images/2023/06/'\n",
    "rename_and_resize_files(directory, out_path, 1200, 'C1-Junioren_Stetten')"
   ]
  },
  {
   "cell_type": "code",
   "execution_count": 3,
   "metadata": {},
   "outputs": [
    {
     "name": "stdout",
     "output_type": "stream",
     "text": [
      "Erstellungsdatum: 2023:04:29 19:49:19\n"
     ]
    }
   ],
   "source": [
    "# Beispielaufruf\n",
    "image_path = \"/Users/sandra/Documents/GitHub/sebert23.github.io/images/2023/06/\"\n",
    "creation_date = get_image_creation_date(image_path)\n",
    "\n",
    "if creation_date is not None:\n",
    "    print(\"Erstellungsdatum:\", creation_date)\n",
    "else:\n",
    "    print(\"Erstellungsdatum nicht verfügbar oder Bild hat kein Erstellungsdatum.\")\n"
   ]
  },
  {
   "cell_type": "code",
   "execution_count": 7,
   "metadata": {},
   "outputs": [],
   "source": [
    "import os\n",
    "import json\n",
    "from google.oauth2 import service_account\n",
    "from googleapiclient.discovery import build"
   ]
  },
  {
   "cell_type": "code",
   "execution_count": 8,
   "metadata": {},
   "outputs": [],
   "source": [
    "def download_photos_from_google_folder(folder_id, save_dir):\n",
    "    #Pfad erstellen um heruntergeladene Fotos zu speichern\n",
    "    if not os.path.exists(save_dir):\n",
    "        os.makedirs(save_dir)\n",
    "        \n",
    "        \n",
    "    # Google Photos API-Verbindung herstellen\n",
    "    credentials = service_account.Credentials.from_service_account_file('credentials.json')\n",
    "    service = build('photoslibrary', 'v1', credentials=credentials, cache_discovery=False)\n",
    "\n",
    "    # Fotos aus dem angegebenen Ordner abrufen\n",
    "    results = service.mediaItems().search(body={'albumId': folder_id}).execute()\n",
    "    photos = results.get('mediaItems', [])\n",
    "    \n",
    "    # Fotos herunterladen\n",
    "    for photo in photos:\n",
    "        photo_url = photo['baseUrl'] + '=d'\n",
    "        file_name = photo['filename']\n",
    "        save_path = os.path.join(save_dir, file_name)\n",
    "        \n",
    "        response = service._http.request('GET', photo_url)\n",
    "        with open(save_path, 'wb') as f:\n",
    "            f.write(response.data)\n",
    "            \n",
    "        print(f'{file_name} wurde heruntergeladen.')"
   ]
  },
  {
   "cell_type": "code",
   "execution_count": 11,
   "metadata": {},
   "outputs": [
    {
     "ename": "NameError",
     "evalue": "name 'avysr5uUrKsWrUjb7' is not defined",
     "output_type": "error",
     "traceback": [
      "\u001b[0;31m---------------------------------------------------------------------------\u001b[0m",
      "\u001b[0;31mNameError\u001b[0m                                 Traceback (most recent call last)",
      "\u001b[0;32m<ipython-input-11-6d80ea729be7>\u001b[0m in \u001b[0;36m<module>\u001b[0;34m\u001b[0m\n\u001b[1;32m      1\u001b[0m \u001b[0;32mimport\u001b[0m \u001b[0mgdown\u001b[0m\u001b[0;34m\u001b[0m\u001b[0;34m\u001b[0m\u001b[0m\n\u001b[1;32m      2\u001b[0m \u001b[0msave_dir\u001b[0m \u001b[0;34m=\u001b[0m \u001b[0;34m\"/Users/sandra/Documents/Test_Download/\"\u001b[0m\u001b[0;34m\u001b[0m\u001b[0;34m\u001b[0m\u001b[0m\n\u001b[0;32m----> 3\u001b[0;31m \u001b[0murl\u001b[0m\u001b[0;34m=\u001b[0m \u001b[0;34mf\"https://drive.google.com/uc?id={avysr5uUrKsWrUjb7}&export=download\"\u001b[0m\u001b[0;34m\u001b[0m\u001b[0;34m\u001b[0m\u001b[0m\n\u001b[0m\u001b[1;32m      4\u001b[0m \u001b[0mgdown\u001b[0m\u001b[0;34m.\u001b[0m\u001b[0mdownload\u001b[0m\u001b[0;34m(\u001b[0m\u001b[0murl\u001b[0m\u001b[0;34m,\u001b[0m \u001b[0moutput\u001b[0m\u001b[0;34m=\u001b[0m\u001b[0msave_dir\u001b[0m\u001b[0;34m,\u001b[0m \u001b[0mquiet\u001b[0m\u001b[0;34m=\u001b[0m\u001b[0;32mFalse\u001b[0m\u001b[0;34m)\u001b[0m\u001b[0;34m\u001b[0m\u001b[0;34m\u001b[0m\u001b[0m\n",
      "\u001b[0;31mNameError\u001b[0m: name 'avysr5uUrKsWrUjb7' is not defined"
     ]
    }
   ],
   "source": [
    "import gdown\n",
    "save_dir = \"/Users/sandra/Documents/Test_Download/\"\n",
    "url= f\"https://drive.google.com/uc?id={avysr5uUrKsWrUjb7}&export=download\"\n",
    "gdown.download(url, output=save_dir, quiet=False)"
   ]
  },
  {
   "cell_type": "code",
   "execution_count": 9,
   "metadata": {},
   "outputs": [
    {
     "ename": "FileNotFoundError",
     "evalue": "[Errno 2] No such file or directory: 'credentials.json'",
     "output_type": "error",
     "traceback": [
      "\u001b[0;31m---------------------------------------------------------------------------\u001b[0m",
      "\u001b[0;31mFileNotFoundError\u001b[0m                         Traceback (most recent call last)",
      "\u001b[0;32m<ipython-input-9-185cee304e04>\u001b[0m in \u001b[0;36m<module>\u001b[0;34m\u001b[0m\n\u001b[1;32m      1\u001b[0m \u001b[0mfolder_id\u001b[0m \u001b[0;34m=\u001b[0m\u001b[0;34m\"https://photos.google.com/u/1/album/AF1QipNLWawxiQbUlceavLDhDCR6FulXkbraZBRTlyNS\"\u001b[0m\u001b[0;34m\u001b[0m\u001b[0;34m\u001b[0m\u001b[0m\n\u001b[1;32m      2\u001b[0m \u001b[0msave_dir\u001b[0m \u001b[0;34m=\u001b[0m \u001b[0;34m\"/Users/sandra/Documents/Test_Download/\"\u001b[0m\u001b[0;34m\u001b[0m\u001b[0;34m\u001b[0m\u001b[0m\n\u001b[0;32m----> 3\u001b[0;31m \u001b[0mdownload_photos_from_google_folder\u001b[0m\u001b[0;34m(\u001b[0m\u001b[0mfolder_id\u001b[0m\u001b[0;34m,\u001b[0m \u001b[0msave_dir\u001b[0m\u001b[0;34m)\u001b[0m\u001b[0;34m\u001b[0m\u001b[0;34m\u001b[0m\u001b[0m\n\u001b[0m",
      "\u001b[0;32m<ipython-input-8-7ec8f36bc64c>\u001b[0m in \u001b[0;36mdownload_photos_from_google_folder\u001b[0;34m(folder_id, save_dir)\u001b[0m\n\u001b[1;32m      6\u001b[0m \u001b[0;34m\u001b[0m\u001b[0m\n\u001b[1;32m      7\u001b[0m     \u001b[0;31m# Google Photos API-Verbindung herstellen\u001b[0m\u001b[0;34m\u001b[0m\u001b[0;34m\u001b[0m\u001b[0;34m\u001b[0m\u001b[0m\n\u001b[0;32m----> 8\u001b[0;31m     \u001b[0mcredentials\u001b[0m \u001b[0;34m=\u001b[0m \u001b[0mservice_account\u001b[0m\u001b[0;34m.\u001b[0m\u001b[0mCredentials\u001b[0m\u001b[0;34m.\u001b[0m\u001b[0mfrom_service_account_file\u001b[0m\u001b[0;34m(\u001b[0m\u001b[0;34m'credentials.json'\u001b[0m\u001b[0;34m)\u001b[0m\u001b[0;34m\u001b[0m\u001b[0;34m\u001b[0m\u001b[0m\n\u001b[0m\u001b[1;32m      9\u001b[0m     \u001b[0mservice\u001b[0m \u001b[0;34m=\u001b[0m \u001b[0mbuild\u001b[0m\u001b[0;34m(\u001b[0m\u001b[0;34m'photoslibrary'\u001b[0m\u001b[0;34m,\u001b[0m \u001b[0;34m'v1'\u001b[0m\u001b[0;34m,\u001b[0m \u001b[0mcredentials\u001b[0m\u001b[0;34m=\u001b[0m\u001b[0mcredentials\u001b[0m\u001b[0;34m,\u001b[0m \u001b[0mcache_discovery\u001b[0m\u001b[0;34m=\u001b[0m\u001b[0;32mFalse\u001b[0m\u001b[0;34m)\u001b[0m\u001b[0;34m\u001b[0m\u001b[0;34m\u001b[0m\u001b[0m\n\u001b[1;32m     10\u001b[0m \u001b[0;34m\u001b[0m\u001b[0m\n",
      "\u001b[0;32m~/opt/anaconda3/lib/python3.7/site-packages/google/oauth2/service_account.py\u001b[0m in \u001b[0;36mfrom_service_account_file\u001b[0;34m(cls, filename, **kwargs)\u001b[0m\n\u001b[1;32m    255\u001b[0m         \"\"\"\n\u001b[1;32m    256\u001b[0m         info, signer = _service_account_info.from_filename(\n\u001b[0;32m--> 257\u001b[0;31m             \u001b[0mfilename\u001b[0m\u001b[0;34m,\u001b[0m \u001b[0mrequire\u001b[0m\u001b[0;34m=\u001b[0m\u001b[0;34m[\u001b[0m\u001b[0;34m\"client_email\"\u001b[0m\u001b[0;34m,\u001b[0m \u001b[0;34m\"token_uri\"\u001b[0m\u001b[0;34m]\u001b[0m\u001b[0;34m\u001b[0m\u001b[0;34m\u001b[0m\u001b[0m\n\u001b[0m\u001b[1;32m    258\u001b[0m         )\n\u001b[1;32m    259\u001b[0m         \u001b[0;32mreturn\u001b[0m \u001b[0mcls\u001b[0m\u001b[0;34m.\u001b[0m\u001b[0m_from_signer_and_info\u001b[0m\u001b[0;34m(\u001b[0m\u001b[0msigner\u001b[0m\u001b[0;34m,\u001b[0m \u001b[0minfo\u001b[0m\u001b[0;34m,\u001b[0m \u001b[0;34m**\u001b[0m\u001b[0mkwargs\u001b[0m\u001b[0;34m)\u001b[0m\u001b[0;34m\u001b[0m\u001b[0;34m\u001b[0m\u001b[0m\n",
      "\u001b[0;32m~/opt/anaconda3/lib/python3.7/site-packages/google/auth/_service_account_info.py\u001b[0m in \u001b[0;36mfrom_filename\u001b[0;34m(filename, require, use_rsa_signer)\u001b[0m\n\u001b[1;32m     78\u001b[0m             \u001b[0minfo\u001b[0m \u001b[0;32mand\u001b[0m \u001b[0ma\u001b[0m \u001b[0msigner\u001b[0m \u001b[0minstance\u001b[0m\u001b[0;34m.\u001b[0m\u001b[0;34m\u001b[0m\u001b[0;34m\u001b[0m\u001b[0m\n\u001b[1;32m     79\u001b[0m     \"\"\"\n\u001b[0;32m---> 80\u001b[0;31m     \u001b[0;32mwith\u001b[0m \u001b[0mio\u001b[0m\u001b[0;34m.\u001b[0m\u001b[0mopen\u001b[0m\u001b[0;34m(\u001b[0m\u001b[0mfilename\u001b[0m\u001b[0;34m,\u001b[0m \u001b[0;34m\"r\"\u001b[0m\u001b[0;34m,\u001b[0m \u001b[0mencoding\u001b[0m\u001b[0;34m=\u001b[0m\u001b[0;34m\"utf-8\"\u001b[0m\u001b[0;34m)\u001b[0m \u001b[0;32mas\u001b[0m \u001b[0mjson_file\u001b[0m\u001b[0;34m:\u001b[0m\u001b[0;34m\u001b[0m\u001b[0;34m\u001b[0m\u001b[0m\n\u001b[0m\u001b[1;32m     81\u001b[0m         \u001b[0mdata\u001b[0m \u001b[0;34m=\u001b[0m \u001b[0mjson\u001b[0m\u001b[0;34m.\u001b[0m\u001b[0mload\u001b[0m\u001b[0;34m(\u001b[0m\u001b[0mjson_file\u001b[0m\u001b[0;34m)\u001b[0m\u001b[0;34m\u001b[0m\u001b[0;34m\u001b[0m\u001b[0m\n\u001b[1;32m     82\u001b[0m         \u001b[0;32mreturn\u001b[0m \u001b[0mdata\u001b[0m\u001b[0;34m,\u001b[0m \u001b[0mfrom_dict\u001b[0m\u001b[0;34m(\u001b[0m\u001b[0mdata\u001b[0m\u001b[0;34m,\u001b[0m \u001b[0mrequire\u001b[0m\u001b[0;34m=\u001b[0m\u001b[0mrequire\u001b[0m\u001b[0;34m,\u001b[0m \u001b[0muse_rsa_signer\u001b[0m\u001b[0;34m=\u001b[0m\u001b[0muse_rsa_signer\u001b[0m\u001b[0;34m)\u001b[0m\u001b[0;34m\u001b[0m\u001b[0;34m\u001b[0m\u001b[0m\n",
      "\u001b[0;31mFileNotFoundError\u001b[0m: [Errno 2] No such file or directory: 'credentials.json'"
     ]
    }
   ],
   "source": [
    "folder_id =\"https://photos.google.com/u/1/album/AF1QipNLWawxiQbUlceavLDhDCR6FulXkbraZBRTlyNS\"\n",
    "save_dir = \"/Users/sandra/Documents/Test_Download/\"\n",
    "download_photos_from_google_folder(folder_id, save_dir)"
   ]
  },
  {
   "cell_type": "code",
   "execution_count": null,
   "metadata": {},
   "outputs": [],
   "source": []
  }
 ],
 "metadata": {
  "kernelspec": {
   "display_name": "Python 3",
   "language": "python",
   "name": "python3"
  },
  "language_info": {
   "codemirror_mode": {
    "name": "ipython",
    "version": 3
   },
   "file_extension": ".py",
   "mimetype": "text/x-python",
   "name": "python",
   "nbconvert_exporter": "python",
   "pygments_lexer": "ipython3",
   "version": "3.7.6"
  }
 },
 "nbformat": 4,
 "nbformat_minor": 4
}
