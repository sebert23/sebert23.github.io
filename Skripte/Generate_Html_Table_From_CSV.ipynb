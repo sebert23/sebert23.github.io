{
 "cells": [
  {
   "cell_type": "code",
   "execution_count": 19,
   "metadata": {},
   "outputs": [],
   "source": [
    "import csv\n",
    "import pandas as pd\n",
    "import codecs"
   ]
  },
  {
   "cell_type": "code",
   "execution_count": 20,
   "metadata": {},
   "outputs": [
    {
     "name": "stdout",
     "output_type": "stream",
     "text": [
      "[17, 18, 19, 20, 24]\n"
     ]
    }
   ],
   "source": [
    "df = pd.read_csv('out.csv', sep=\",\", encoding=\"utf-8\")\n",
    "df.head()\n",
    "print(sorted(df.KW.unique()))"
   ]
  },
  {
   "cell_type": "code",
   "execution_count": 21,
   "metadata": {},
   "outputs": [
    {
     "data": {
      "text/html": [
       "<div>\n",
       "<style scoped>\n",
       "    .dataframe tbody tr th:only-of-type {\n",
       "        vertical-align: middle;\n",
       "    }\n",
       "\n",
       "    .dataframe tbody tr th {\n",
       "        vertical-align: top;\n",
       "    }\n",
       "\n",
       "    .dataframe thead th {\n",
       "        text-align: right;\n",
       "    }\n",
       "</style>\n",
       "<table border=\"1\" class=\"dataframe\">\n",
       "  <thead>\n",
       "    <tr style=\"text-align: right;\">\n",
       "      <th></th>\n",
       "      <th>Datum</th>\n",
       "      <th>Zeit</th>\n",
       "      <th>Team</th>\n",
       "      <th>KW</th>\n",
       "      <th>Heim</th>\n",
       "      <th>Gast</th>\n",
       "      <th>Logo Heim</th>\n",
       "      <th>Logo Gast</th>\n",
       "      <th>home_link</th>\n",
       "      <th>guest_link</th>\n",
       "      <th>Spiel</th>\n",
       "    </tr>\n",
       "  </thead>\n",
       "  <tbody>\n",
       "    <tr>\n",
       "      <th>0</th>\n",
       "      <td>29.04.23</td>\n",
       "      <td>16:15</td>\n",
       "      <td>A</td>\n",
       "      <td>17</td>\n",
       "      <td>SGM TSV Brettach KoBra</td>\n",
       "      <td>SGM SC Abstatt/​Beilstein/​Ilsfeld ABI</td>\n",
       "      <td>www.fussball.de/export.media/-/action/getLogo/...</td>\n",
       "      <td>www.fussball.de/export.media/-/action/getLogo/...</td>\n",
       "      <td>https://www.fussball.de/mannschaft/sgm-tsv-bre...</td>\n",
       "      <td>https://www.fussball.de/mannschaft/sgm-sc-abst...</td>\n",
       "      <td>https://www.fussball.de/spiel/sgm-tsv-brettach...</td>\n",
       "    </tr>\n",
       "  </tbody>\n",
       "</table>\n",
       "</div>"
      ],
      "text/plain": [
       "      Datum    Zeit Team  KW                    Heim  \\\n",
       "0  29.04.23   16:15    A  17  SGM TSV Brettach KoBra   \n",
       "\n",
       "                                     Gast  \\\n",
       "0  SGM SC Abstatt/​Beilstein/​Ilsfeld ABI   \n",
       "\n",
       "                                           Logo Heim  \\\n",
       "0  www.fussball.de/export.media/-/action/getLogo/...   \n",
       "\n",
       "                                           Logo Gast  \\\n",
       "0  www.fussball.de/export.media/-/action/getLogo/...   \n",
       "\n",
       "                                           home_link  \\\n",
       "0  https://www.fussball.de/mannschaft/sgm-tsv-bre...   \n",
       "\n",
       "                                          guest_link  \\\n",
       "0  https://www.fussball.de/mannschaft/sgm-sc-abst...   \n",
       "\n",
       "                                               Spiel  \n",
       "0  https://www.fussball.de/spiel/sgm-tsv-brettach...  "
      ]
     },
     "execution_count": 21,
     "metadata": {},
     "output_type": "execute_result"
    }
   ],
   "source": [
    "#current calendar week -> add one to the current calendar week to get current week\n",
    "kw = 17\n",
    "filename = \"Test_KW_\" + str(kw) + \".html\"\n",
    "#extract data from current calendar week\n",
    "kw_data = df.loc[df['KW']==kw]\n",
    "#sort data by date and time\n",
    "kw_data = kw_data.sort_values(by=['Datum','Zeit'])\n",
    "kw_data"
   ]
  },
  {
   "cell_type": "code",
   "execution_count": 22,
   "metadata": {},
   "outputs": [],
   "source": [
    "#write head of table in html\n",
    "table_head = \"<table id=\\\"Spiele\\\">\\n\"\n",
    "table_head += \"\\t<tr>\\n\"\n",
    "table_head += \"\\t\\t<th>Datum</th>\\n\"\n",
    "table_head += \"\\t\\t<th>Team</th>\\n\"\n",
    "table_head += \"\\t\\t<th>Heim</th>\\n\"\n",
    "table_head += \"\\t\\t<th>Gast</th>\\n\"\n",
    "table_head += \"\\t\\t<th>Ergebnis</th>\\n\"\n",
    "table_head += \"\\t</tr>\"\n",
    "f = open(filename, \"w\")\n",
    "f.write(table_head)\n",
    "f.close()"
   ]
  },
  {
   "cell_type": "code",
   "execution_count": 23,
   "metadata": {},
   "outputs": [],
   "source": [
    "f = open(filename, \"a\")\n",
    "for ind in kw_data.index:\n",
    "    html_line = \"\\t<tr>\\n\"\n",
    "    html_line += \"\\t\\t<td>\" + df['Datum'][ind] + \", \" + df['Zeit'][ind] + \"</td>\\n\"\n",
    "    html_line += \"\\t\\t<td>\" +  df['Team'][ind] + \"</td>\\n\"\n",
    "    html_line += \"\\t\\t<td>\" + \"<a href=\\\"\" + df['home_link'][ind] + \"\\\" target=\\\"_blank\\\">\" +  df['Heim'][ind].replace('\\u200b','') + \"</a></td>\\n\"\n",
    "    html_line += \"\\t\\t<td>\" + \"<a href=\\\"\" + df['guest_link'][ind] + \"\\\" target=\\\"_blank\\\">\" +  df['Gast'][ind].replace('\\u200b','') + \"</a></td>\\n\"\n",
    "    html_line += \"\\t\\t<td>\" + \"<a href=\\\"\" + df['Spiel'][ind] + \"\\\" target=\\\"_blank\\\">link</a>\" + \"</td>\\n\"\n",
    "    html_line += \"\\t</tr>\\n\"\n",
    "    \n",
    "    f.write(html_line)\n",
    "f.write(\"</table>\")\n",
    "f.close()"
   ]
  },
  {
   "cell_type": "code",
   "execution_count": 24,
   "metadata": {},
   "outputs": [
    {
     "data": {
      "text/plain": [
       "'Aramäer Heilbronn'"
      ]
     },
     "execution_count": 24,
     "metadata": {},
     "output_type": "execute_result"
    }
   ],
   "source": [
    "str(df['Gast'][3].replace('\\u200b',''))"
   ]
  },
  {
   "cell_type": "code",
   "execution_count": null,
   "metadata": {},
   "outputs": [],
   "source": []
  }
 ],
 "metadata": {
  "kernelspec": {
   "display_name": "Python 3",
   "language": "python",
   "name": "python3"
  },
  "language_info": {
   "codemirror_mode": {
    "name": "ipython",
    "version": 3
   },
   "file_extension": ".py",
   "mimetype": "text/x-python",
   "name": "python",
   "nbconvert_exporter": "python",
   "pygments_lexer": "ipython3",
   "version": "3.7.6"
  }
 },
 "nbformat": 4,
 "nbformat_minor": 4
}
