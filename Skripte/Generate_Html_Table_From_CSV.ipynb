{
 "cells": [
  {
   "cell_type": "code",
   "execution_count": 1,
   "metadata": {},
   "outputs": [],
   "source": [
    "import csv\n",
    "import pandas as pd\n",
    "import codecs"
   ]
  },
  {
   "cell_type": "code",
   "execution_count": 22,
   "metadata": {},
   "outputs": [
    {
     "name": "stdout",
     "output_type": "stream",
     "text": [
      "[16, 17, 18, 19, 20, 21, 23, 24, 25, 26]\n"
     ]
    }
   ],
   "source": [
    "df = pd.read_csv('out.csv', sep=\",\")\n",
    "df.head()\n",
    "print(sorted(df.KW.unique()))"
   ]
  },
  {
   "cell_type": "code",
   "execution_count": 15,
   "metadata": {},
   "outputs": [],
   "source": [
    "#current calendar week -> add one to the current calendar week to get current week\n",
    "kw = 17\n",
    "filename = \"Spiele_KW_\" + str(kw) + \".html\"\n",
    "#extract data from current calendar week\n",
    "kw_data = df.loc[df['KW']==kw]\n",
    "#sort data by date and time\n",
    "kw_data = kw_data.sort_values(by=['Datum','Zeit'])"
   ]
  },
  {
   "cell_type": "code",
   "execution_count": 16,
   "metadata": {},
   "outputs": [
    {
     "name": "stdout",
     "output_type": "stream",
     "text": [
      "<table id=\"Spiele\">\n",
      "\t<tr>\n",
      "\t\t<th>Datum</th>\n",
      "\t\t<th>Team</th>\n",
      "\t\t<th>Heim</th>\n",
      "\t\t<th>Gast</th>\n",
      "\t\t<th>Ergebnis</th>\n",
      "\t</tr>\n"
     ]
    },
    {
     "data": {
      "text/html": [
       "<div>\n",
       "<style scoped>\n",
       "    .dataframe tbody tr th:only-of-type {\n",
       "        vertical-align: middle;\n",
       "    }\n",
       "\n",
       "    .dataframe tbody tr th {\n",
       "        vertical-align: top;\n",
       "    }\n",
       "\n",
       "    .dataframe thead th {\n",
       "        text-align: right;\n",
       "    }\n",
       "</style>\n",
       "<table border=\"1\" class=\"dataframe\">\n",
       "  <thead>\n",
       "    <tr style=\"text-align: right;\">\n",
       "      <th></th>\n",
       "      <th>Datum</th>\n",
       "      <th>Zeit</th>\n",
       "      <th>Team</th>\n",
       "      <th>KW</th>\n",
       "      <th>Heim</th>\n",
       "      <th>Gast</th>\n",
       "      <th>Logo Heim</th>\n",
       "      <th>Logo Gast</th>\n",
       "      <th>home_link</th>\n",
       "      <th>guest_link</th>\n",
       "      <th>Spiel</th>\n",
       "    </tr>\n",
       "  </thead>\n",
       "  <tbody>\n",
       "    <tr>\n",
       "      <th>55</th>\n",
       "      <td>24.04.23</td>\n",
       "      <td>18:15</td>\n",
       "      <td>D2</td>\n",
       "      <td>17</td>\n",
       "      <td>SGM Nordhausen Unteres Zabergäu II</td>\n",
       "      <td>SGM Ilsfeld-Abstatt-Beilstein ABI II</td>\n",
       "      <td>www.fussball.de/export.media/-/action/getLogo/...</td>\n",
       "      <td>www.fussball.de/export.media/-/action/getLogo/...</td>\n",
       "      <td>https://www.fussball.de/mannschaft/sgm-nordhau...</td>\n",
       "      <td>https://www.fussball.de/mannschaft/sgm-ilsfeld...</td>\n",
       "      <td>https://www.fussball.de/spiel/sgm-nordhausen-u...</td>\n",
       "    </tr>\n",
       "    <tr>\n",
       "      <th>23</th>\n",
       "      <td>28.04.23</td>\n",
       "      <td>18:30</td>\n",
       "      <td>B-J-innen</td>\n",
       "      <td>17</td>\n",
       "      <td>SV Sülzbach</td>\n",
       "      <td>SGM SC Ilsfeld/​Beilstein/​Abstatt ABI</td>\n",
       "      <td>www.fussball.de/export.media/-/action/getLogo/...</td>\n",
       "      <td>www.fussball.de/export.media/-/action/getLogo/...</td>\n",
       "      <td>https://www.fussball.de/mannschaft/sv-suelzbac...</td>\n",
       "      <td>https://www.fussball.de/mannschaft/sgm-sc-ilsf...</td>\n",
       "      <td>https://www.fussball.de/spiel/sv-suelzbach-i-s...</td>\n",
       "    </tr>\n",
       "    <tr>\n",
       "      <th>44</th>\n",
       "      <td>29.04.23</td>\n",
       "      <td>10:30</td>\n",
       "      <td>C-J-innen</td>\n",
       "      <td>17</td>\n",
       "      <td>SGM SC Ilsfeld/​Abstatt/​Beilstein ABI</td>\n",
       "      <td>SGM SV Onolzheim/​Honhardt/​Gründelhardt</td>\n",
       "      <td>www.fussball.de/export.media/-/action/getLogo/...</td>\n",
       "      <td>www.fussball.de/export.media/-/action/getLogo/...</td>\n",
       "      <td>https://www.fussball.de/mannschaft/sgm-sc-ilsf...</td>\n",
       "      <td>https://www.fussball.de/mannschaft/sgm-sv-onol...</td>\n",
       "      <td>https://www.fussball.de/spiel/sgm-sc-ilsfeld-a...</td>\n",
       "    </tr>\n",
       "    <tr>\n",
       "      <th>37</th>\n",
       "      <td>29.04.23</td>\n",
       "      <td>11:10</td>\n",
       "      <td>C2</td>\n",
       "      <td>17</td>\n",
       "      <td>SGM SC Ilsfeld/​Abstatt/​Beilstein ABI II</td>\n",
       "      <td>SGM FV Wüstenrot /​ Neuhütten/​ Neulautern</td>\n",
       "      <td>www.fussball.de/export.media/-/action/getLogo/...</td>\n",
       "      <td>www.fussball.de/export.media/-/action/getLogo/...</td>\n",
       "      <td>https://www.fussball.de/mannschaft/sgm-sc-ilsf...</td>\n",
       "      <td>https://www.fussball.de/mannschaft/sgm-fv-wues...</td>\n",
       "      <td>https://www.fussball.de/spiel/sgm-sc-ilsfeld-a...</td>\n",
       "    </tr>\n",
       "    <tr>\n",
       "      <th>56</th>\n",
       "      <td>29.04.23</td>\n",
       "      <td>11:10</td>\n",
       "      <td>D2</td>\n",
       "      <td>17</td>\n",
       "      <td>SGM Cleebronn/​Botenheim/​Eibensbach/​Stockheim</td>\n",
       "      <td>SGM Ilsfeld-Abstatt-Beilstein ABI II</td>\n",
       "      <td>www.fussball.de/export.media/-/action/getLogo/...</td>\n",
       "      <td>www.fussball.de/export.media/-/action/getLogo/...</td>\n",
       "      <td>https://www.fussball.de/mannschaft/sgm-cleebro...</td>\n",
       "      <td>https://www.fussball.de/mannschaft/sgm-ilsfeld...</td>\n",
       "      <td>https://www.fussball.de/spiel/sgm-cleebronn-bo...</td>\n",
       "    </tr>\n",
       "  </tbody>\n",
       "</table>\n",
       "</div>"
      ],
      "text/plain": [
       "       Datum    Zeit       Team  KW  \\\n",
       "55  24.04.23   18:15         D2  17   \n",
       "23  28.04.23   18:30  B-J-innen  17   \n",
       "44  29.04.23   10:30  C-J-innen  17   \n",
       "37  29.04.23   11:10         C2  17   \n",
       "56  29.04.23   11:10         D2  17   \n",
       "\n",
       "                                               Heim  \\\n",
       "55               SGM Nordhausen Unteres Zabergäu II   \n",
       "23                                      SV Sülzbach   \n",
       "44           SGM SC Ilsfeld/​Abstatt/​Beilstein ABI   \n",
       "37        SGM SC Ilsfeld/​Abstatt/​Beilstein ABI II   \n",
       "56  SGM Cleebronn/​Botenheim/​Eibensbach/​Stockheim   \n",
       "\n",
       "                                          Gast  \\\n",
       "55        SGM Ilsfeld-Abstatt-Beilstein ABI II   \n",
       "23      SGM SC Ilsfeld/​Beilstein/​Abstatt ABI   \n",
       "44    SGM SV Onolzheim/​Honhardt/​Gründelhardt   \n",
       "37  SGM FV Wüstenrot /​ Neuhütten/​ Neulautern   \n",
       "56        SGM Ilsfeld-Abstatt-Beilstein ABI II   \n",
       "\n",
       "                                            Logo Heim  \\\n",
       "55  www.fussball.de/export.media/-/action/getLogo/...   \n",
       "23  www.fussball.de/export.media/-/action/getLogo/...   \n",
       "44  www.fussball.de/export.media/-/action/getLogo/...   \n",
       "37  www.fussball.de/export.media/-/action/getLogo/...   \n",
       "56  www.fussball.de/export.media/-/action/getLogo/...   \n",
       "\n",
       "                                            Logo Gast  \\\n",
       "55  www.fussball.de/export.media/-/action/getLogo/...   \n",
       "23  www.fussball.de/export.media/-/action/getLogo/...   \n",
       "44  www.fussball.de/export.media/-/action/getLogo/...   \n",
       "37  www.fussball.de/export.media/-/action/getLogo/...   \n",
       "56  www.fussball.de/export.media/-/action/getLogo/...   \n",
       "\n",
       "                                            home_link  \\\n",
       "55  https://www.fussball.de/mannschaft/sgm-nordhau...   \n",
       "23  https://www.fussball.de/mannschaft/sv-suelzbac...   \n",
       "44  https://www.fussball.de/mannschaft/sgm-sc-ilsf...   \n",
       "37  https://www.fussball.de/mannschaft/sgm-sc-ilsf...   \n",
       "56  https://www.fussball.de/mannschaft/sgm-cleebro...   \n",
       "\n",
       "                                           guest_link  \\\n",
       "55  https://www.fussball.de/mannschaft/sgm-ilsfeld...   \n",
       "23  https://www.fussball.de/mannschaft/sgm-sc-ilsf...   \n",
       "44  https://www.fussball.de/mannschaft/sgm-sv-onol...   \n",
       "37  https://www.fussball.de/mannschaft/sgm-fv-wues...   \n",
       "56  https://www.fussball.de/mannschaft/sgm-ilsfeld...   \n",
       "\n",
       "                                                Spiel  \n",
       "55  https://www.fussball.de/spiel/sgm-nordhausen-u...  \n",
       "23  https://www.fussball.de/spiel/sv-suelzbach-i-s...  \n",
       "44  https://www.fussball.de/spiel/sgm-sc-ilsfeld-a...  \n",
       "37  https://www.fussball.de/spiel/sgm-sc-ilsfeld-a...  \n",
       "56  https://www.fussball.de/spiel/sgm-cleebronn-bo...  "
      ]
     },
     "execution_count": 16,
     "metadata": {},
     "output_type": "execute_result"
    }
   ],
   "source": [
    "#write head of table in html\n",
    "table_head = \"<table id=\\\"Spiele\\\">\\n\"\n",
    "table_head += \"\\t<tr>\\n\"\n",
    "table_head += \"\\t\\t<th>Datum</th>\\n\"\n",
    "table_head += \"\\t\\t<th>Team</th>\\n\"\n",
    "table_head += \"\\t\\t<th>Heim</th>\\n\"\n",
    "table_head += \"\\t\\t<th>Gast</th>\\n\"\n",
    "table_head += \"\\t\\t<th>Ergebnis</th>\\n\"\n",
    "table_head += \"\\t</tr>\"\n",
    "f = open(filename, \"w\")\n",
    "f.write(table_head)\n",
    "f.close()"
   ]
  },
  {
   "cell_type": "code",
   "execution_count": 17,
   "metadata": {},
   "outputs": [],
   "source": [
    "f = open(filename, \"a\")\n",
    "for ind in kw_data.index:\n",
    "    html_line = \"\\t<tr>\\n\"\n",
    "    html_line += \"\\t\\t<td>\" + df['Datum'][ind] + \", \" + df['Zeit'][ind] + \"</td>\\n\"\n",
    "    html_line += \"\\t\\t<td>\" +  df['Team'][ind] + \"</td>\\n\"\n",
    "    html_line += \"\\t\\t<td>\" + \"<a href=\\\"\" + df['home_link'][ind] + \"\\\" target=\\\"_blank\\\">\" +  df['Heim'][ind].replace('\\u200b','') + \"</a></td>\\n\"\n",
    "    html_line += \"\\t\\t<td>\" + \"<a href=\\\"\" + df['guest_link'][ind] + \"\\\" target=\\\"_blank\\\">\" +  df['Gast'][ind].replace('\\u200b','') + \"</a></td>\\n\"\n",
    "    html_line += \"\\t\\t<td>\" + \"<a href=\\\"\" + df['Spiel'][ind] + \"\\\" target=\\\"_blank\\\">link</a>\" + \"</td>\\n\"\n",
    "    html_line += \"\\t</tr>\\n\"\n",
    "    \n",
    "    f.write(html_line)\n",
    "f.write(\"</table>\")\n",
    "f.close()"
   ]
  },
  {
   "cell_type": "code",
   "execution_count": 18,
   "metadata": {},
   "outputs": [
    {
     "data": {
      "text/plain": [
       "'Aramäer Heilbronn'"
      ]
     },
     "execution_count": 18,
     "metadata": {},
     "output_type": "execute_result"
    }
   ],
   "source": [
    "str(df['Gast'][3].replace('\\u200b',''))"
   ]
  },
  {
   "cell_type": "code",
   "execution_count": null,
   "metadata": {},
   "outputs": [],
   "source": []
  }
 ],
 "metadata": {
  "kernelspec": {
   "display_name": "Python 3 (ipykernel)",
   "language": "python",
   "name": "python3"
  },
  "language_info": {
   "codemirror_mode": {
    "name": "ipython",
    "version": 3
   },
   "file_extension": ".py",
   "mimetype": "text/x-python",
   "name": "python",
   "nbconvert_exporter": "python",
   "pygments_lexer": "ipython3",
   "version": "3.9.7"
  }
 },
 "nbformat": 4,
 "nbformat_minor": 4
}
