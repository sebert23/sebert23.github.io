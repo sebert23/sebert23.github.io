{
 "cells": [
  {
   "cell_type": "code",
   "execution_count": 1,
   "metadata": {},
   "outputs": [],
   "source": [
    "import csv\n",
    "import pandas as pd\n",
    "import codecs\n",
    "import re"
   ]
  },
  {
   "cell_type": "code",
   "execution_count": 3,
   "metadata": {},
   "outputs": [
    {
     "name": "stdout",
     "output_type": "stream",
     "text": [
      "[21, 23, 24, 25, 26, 29]\n"
     ]
    }
   ],
   "source": [
    "df = pd.read_csv('out.csv', sep=\",\", encoding=\"utf-8\")\n",
    "df.head()\n",
    "print(sorted(df.KW.unique()))"
   ]
  },
  {
   "cell_type": "code",
   "execution_count": 20,
   "metadata": {},
   "outputs": [
    {
     "name": "stdout",
     "output_type": "stream",
     "text": [
      "Test_KW_26.html\n"
     ]
    },
    {
     "data": {
      "text/html": [
       "<div>\n",
       "<style scoped>\n",
       "    .dataframe tbody tr th:only-of-type {\n",
       "        vertical-align: middle;\n",
       "    }\n",
       "\n",
       "    .dataframe tbody tr th {\n",
       "        vertical-align: top;\n",
       "    }\n",
       "\n",
       "    .dataframe thead th {\n",
       "        text-align: right;\n",
       "    }\n",
       "</style>\n",
       "<table border=\"1\" class=\"dataframe\">\n",
       "  <thead>\n",
       "    <tr style=\"text-align: right;\">\n",
       "      <th></th>\n",
       "      <th>Datum</th>\n",
       "      <th>Zeit</th>\n",
       "      <th>Team</th>\n",
       "      <th>KW</th>\n",
       "      <th>Heim</th>\n",
       "      <th>Gast</th>\n",
       "      <th>Logo Heim</th>\n",
       "      <th>Logo Gast</th>\n",
       "      <th>home_link</th>\n",
       "      <th>guest_link</th>\n",
       "      <th>Spiel</th>\n",
       "    </tr>\n",
       "  </thead>\n",
       "  <tbody>\n",
       "    <tr>\n",
       "      <th>14</th>\n",
       "      <td>01.07.23</td>\n",
       "      <td>10:30</td>\n",
       "      <td>C-J-innen</td>\n",
       "      <td>26</td>\n",
       "      <td>Spvgg Gammesfeld</td>\n",
       "      <td>SGM ABI</td>\n",
       "      <td>www.fussball.de/export.media/-/action/getLogo/...</td>\n",
       "      <td>www.fussball.de/export.media/-/action/getLogo/...</td>\n",
       "      <td>https://www.fussball.de/mannschaft/spvgg-gamme...</td>\n",
       "      <td>https://www.fussball.de/mannschaft/sgm-sc-ilsf...</td>\n",
       "      <td>https://www.fussball.de/spiel/spvgg-gammesfeld...</td>\n",
       "    </tr>\n",
       "    <tr>\n",
       "      <th>16</th>\n",
       "      <td>01.07.23</td>\n",
       "      <td>10:30</td>\n",
       "      <td>C-J-innen</td>\n",
       "      <td>26</td>\n",
       "      <td>Spvgg Gammesfeld</td>\n",
       "      <td>SGM ABI</td>\n",
       "      <td>www.fussball.de/export.media/-/action/getLogo/...</td>\n",
       "      <td>www.fussball.de/export.media/-/action/getLogo/...</td>\n",
       "      <td>NaN</td>\n",
       "      <td>NaN</td>\n",
       "      <td>NaN</td>\n",
       "    </tr>\n",
       "  </tbody>\n",
       "</table>\n",
       "</div>"
      ],
      "text/plain": [
       "       Datum    Zeit       Team  KW              Heim     Gast  \\\n",
       "14  01.07.23   10:30  C-J-innen  26  Spvgg Gammesfeld  SGM ABI   \n",
       "16  01.07.23   10:30  C-J-innen  26  Spvgg Gammesfeld  SGM ABI   \n",
       "\n",
       "                                            Logo Heim  \\\n",
       "14  www.fussball.de/export.media/-/action/getLogo/...   \n",
       "16  www.fussball.de/export.media/-/action/getLogo/...   \n",
       "\n",
       "                                            Logo Gast  \\\n",
       "14  www.fussball.de/export.media/-/action/getLogo/...   \n",
       "16  www.fussball.de/export.media/-/action/getLogo/...   \n",
       "\n",
       "                                            home_link  \\\n",
       "14  https://www.fussball.de/mannschaft/spvgg-gamme...   \n",
       "16                                                NaN   \n",
       "\n",
       "                                           guest_link  \\\n",
       "14  https://www.fussball.de/mannschaft/sgm-sc-ilsf...   \n",
       "16                                                NaN   \n",
       "\n",
       "                                                Spiel  \n",
       "14  https://www.fussball.de/spiel/spvgg-gammesfeld...  \n",
       "16                                                NaN  "
      ]
     },
     "execution_count": 20,
     "metadata": {},
     "output_type": "execute_result"
    }
   ],
   "source": [
    "#current calendar week -> add one to the current calendar week to get current week\n",
    "kw = 26\n",
    "filename = \"Test_KW_\" + str(kw) + \".html\"\n",
    "print(filename)\n",
    "#extract data from current calendar week\n",
    "kw_data = df.loc[df['KW']==kw]\n",
    "#sort data by date and time\n",
    "kw_data = kw_data.sort_values(by=['Datum','Zeit'])\n",
    "kw_data['Heim'] = kw_data['Heim'].replace(r'SGM.*ABI.*','SGM ABI', regex=True)\n",
    "kw_data['Gast'] = kw_data['Gast'].replace(r'SGM.*ABI.*','SGM ABI', regex=True)\n",
    "kw_data"
   ]
  },
  {
   "cell_type": "code",
   "execution_count": 21,
   "metadata": {},
   "outputs": [],
   "source": [
    "#write head of table in html\n",
    "table_head = \"<table id=\\\"Spiele\\\">\\n\"\n",
    "table_head += \"\\t<tr>\\n\"\n",
    "table_head += \"\\t\\t<th>Datum</th>\\n\"\n",
    "table_head += \"\\t\\t<th>Team</th>\\n\"\n",
    "table_head += \"\\t\\t<th>Heim</th>\\n\"\n",
    "table_head += \"\\t\\t<th>Gast</th>\\n\"\n",
    "table_head += \"\\t\\t<th>Ergebnis</th>\\n\"\n",
    "table_head += \"\\t</tr>\"\n",
    "f = open(filename, \"w\")\n",
    "f.write(table_head)\n",
    "f.close()"
   ]
  },
  {
   "cell_type": "code",
   "execution_count": 22,
   "metadata": {},
   "outputs": [
    {
     "ename": "TypeError",
     "evalue": "can only concatenate str (not \"float\") to str",
     "output_type": "error",
     "traceback": [
      "\u001b[0;31m---------------------------------------------------------------------------\u001b[0m",
      "\u001b[0;31mTypeError\u001b[0m                                 Traceback (most recent call last)",
      "\u001b[0;32m<ipython-input-22-b5b4999aa071>\u001b[0m in \u001b[0;36m<module>\u001b[0;34m\u001b[0m\n\u001b[1;32m      8\u001b[0m         \u001b[0mhtml_line\u001b[0m \u001b[0;34m+=\u001b[0m \u001b[0;34m\"\\t\\t<td>\"\u001b[0m \u001b[0;34m+\u001b[0m \u001b[0;34m\"<a href=\\\"\"\u001b[0m \u001b[0;34m+\u001b[0m \u001b[0mdf\u001b[0m\u001b[0;34m[\u001b[0m\u001b[0;34m'home_link'\u001b[0m\u001b[0;34m]\u001b[0m\u001b[0;34m[\u001b[0m\u001b[0mind\u001b[0m\u001b[0;34m]\u001b[0m \u001b[0;34m+\u001b[0m \u001b[0;34m\"\\\" target=\\\"_blank\\\" class=\\\"ABI\\\">\"\u001b[0m \u001b[0;34m+\u001b[0m  \u001b[0mdf\u001b[0m\u001b[0;34m[\u001b[0m\u001b[0;34m'Heim'\u001b[0m\u001b[0;34m]\u001b[0m\u001b[0;34m[\u001b[0m\u001b[0mind\u001b[0m\u001b[0;34m]\u001b[0m\u001b[0;34m.\u001b[0m\u001b[0mreplace\u001b[0m\u001b[0;34m(\u001b[0m\u001b[0;34m'\\u200b'\u001b[0m\u001b[0;34m,\u001b[0m\u001b[0;34m''\u001b[0m\u001b[0;34m)\u001b[0m \u001b[0;34m+\u001b[0m \u001b[0;34m\"</a></td>\\n\"\u001b[0m\u001b[0;34m\u001b[0m\u001b[0;34m\u001b[0m\u001b[0m\n\u001b[1;32m      9\u001b[0m     \u001b[0;32melse\u001b[0m\u001b[0;34m:\u001b[0m\u001b[0;34m\u001b[0m\u001b[0;34m\u001b[0m\u001b[0m\n\u001b[0;32m---> 10\u001b[0;31m         \u001b[0mhtml_line\u001b[0m \u001b[0;34m+=\u001b[0m \u001b[0;34m\"\\t\\t<td>\"\u001b[0m \u001b[0;34m+\u001b[0m \u001b[0;34m\"<a href=\\\"\"\u001b[0m \u001b[0;34m+\u001b[0m \u001b[0mdf\u001b[0m\u001b[0;34m[\u001b[0m\u001b[0;34m'home_link'\u001b[0m\u001b[0;34m]\u001b[0m\u001b[0;34m[\u001b[0m\u001b[0mind\u001b[0m\u001b[0;34m]\u001b[0m \u001b[0;34m+\u001b[0m \u001b[0;34m\"\\\" target=\\\"_blank\\\" class=\\\"ABI\\\">\"\u001b[0m \u001b[0;34m+\u001b[0m  \u001b[0mdf\u001b[0m\u001b[0;34m[\u001b[0m\u001b[0;34m'Heim'\u001b[0m\u001b[0;34m]\u001b[0m\u001b[0;34m[\u001b[0m\u001b[0mind\u001b[0m\u001b[0;34m]\u001b[0m\u001b[0;34m.\u001b[0m\u001b[0mreplace\u001b[0m\u001b[0;34m(\u001b[0m\u001b[0;34m'\\u200b'\u001b[0m\u001b[0;34m,\u001b[0m\u001b[0;34m''\u001b[0m\u001b[0;34m)\u001b[0m \u001b[0;34m+\u001b[0m \u001b[0;34m\"</a></td>\\n\"\u001b[0m\u001b[0;34m\u001b[0m\u001b[0;34m\u001b[0m\u001b[0m\n\u001b[0m\u001b[1;32m     11\u001b[0m     \u001b[0mhtml_line\u001b[0m \u001b[0;34m+=\u001b[0m \u001b[0;34m\"\\t\\t<td>\"\u001b[0m \u001b[0;34m+\u001b[0m \u001b[0;34m\"<a href=\\\"\"\u001b[0m \u001b[0;34m+\u001b[0m \u001b[0mdf\u001b[0m\u001b[0;34m[\u001b[0m\u001b[0;34m'guest_link'\u001b[0m\u001b[0;34m]\u001b[0m\u001b[0;34m[\u001b[0m\u001b[0mind\u001b[0m\u001b[0;34m]\u001b[0m \u001b[0;34m+\u001b[0m \u001b[0;34m\"\\\" target=\\\"_blank\\\">\"\u001b[0m \u001b[0;34m+\u001b[0m  \u001b[0mdf\u001b[0m\u001b[0;34m[\u001b[0m\u001b[0;34m'Gast'\u001b[0m\u001b[0;34m]\u001b[0m\u001b[0;34m[\u001b[0m\u001b[0mind\u001b[0m\u001b[0;34m]\u001b[0m\u001b[0;34m.\u001b[0m\u001b[0mreplace\u001b[0m\u001b[0;34m(\u001b[0m\u001b[0;34m'\\u200b'\u001b[0m\u001b[0;34m,\u001b[0m\u001b[0;34m''\u001b[0m\u001b[0;34m)\u001b[0m \u001b[0;34m+\u001b[0m \u001b[0;34m\"</a></td>\\n\"\u001b[0m\u001b[0;34m\u001b[0m\u001b[0;34m\u001b[0m\u001b[0m\n\u001b[1;32m     12\u001b[0m     \u001b[0mhtml_line\u001b[0m \u001b[0;34m+=\u001b[0m \u001b[0;34m\"\\t\\t<td>\"\u001b[0m \u001b[0;34m+\u001b[0m \u001b[0;34m\"<a href=\\\"\"\u001b[0m \u001b[0;34m+\u001b[0m \u001b[0mdf\u001b[0m\u001b[0;34m[\u001b[0m\u001b[0;34m'Spiel'\u001b[0m\u001b[0;34m]\u001b[0m\u001b[0;34m[\u001b[0m\u001b[0mind\u001b[0m\u001b[0;34m]\u001b[0m \u001b[0;34m+\u001b[0m \u001b[0;34m\"\\\" target=\\\"_blank\\\">link</a>\"\u001b[0m \u001b[0;34m+\u001b[0m \u001b[0;34m\"</td>\\n\"\u001b[0m\u001b[0;34m\u001b[0m\u001b[0;34m\u001b[0m\u001b[0m\n",
      "\u001b[0;31mTypeError\u001b[0m: can only concatenate str (not \"float\") to str"
     ]
    }
   ],
   "source": [
    "f = open(filename, \"a\")\n",
    "for ind in kw_data.index:\n",
    "    html_line = \"\\t<tr>\\n\"\n",
    "    html_line += \"\\t\\t<td>\" + kw_data['Datum'][ind] + \", \" + kw_data['Zeit'][ind] + \"</td>\\n\"\n",
    "    html_line += \"\\t\\t<td>\" +  kw_data['Team'][ind] + \"</td>\\n\"\n",
    "    if kw_data['Heim'][ind]== \"SGM ABI\":\n",
    "        print('blah')\n",
    "        html_line += \"\\t\\t<td>\" + \"<a href=\\\"\" + df['home_link'][ind] + \"\\\" target=\\\"_blank\\\" class=\\\"ABI\\\">\" +  df['Heim'][ind].replace('\\u200b','') + \"</a></td>\\n\"\n",
    "    else:\n",
    "        html_line += \"\\t\\t<td>\" + \"<a href=\\\"\" + df['home_link'][ind] + \"\\\" target=\\\"_blank\\\" class=\\\"ABI\\\">\" +  df['Heim'][ind].replace('\\u200b','') + \"</a></td>\\n\"\n",
    "    html_line += \"\\t\\t<td>\" + \"<a href=\\\"\" + df['guest_link'][ind] + \"\\\" target=\\\"_blank\\\">\" +  df['Gast'][ind].replace('\\u200b','') + \"</a></td>\\n\"\n",
    "    html_line += \"\\t\\t<td>\" + \"<a href=\\\"\" + df['Spiel'][ind] + \"\\\" target=\\\"_blank\\\">link</a>\" + \"</td>\\n\"\n",
    "    html_line += \"\\t</tr>\\n\"\n",
    "    \n",
    "    f.write(html_line)\n",
    "f.write(\"</table>\")\n",
    "f.close()"
   ]
  },
  {
   "cell_type": "code",
   "execution_count": 23,
   "metadata": {},
   "outputs": [
    {
     "data": {
      "text/plain": [
       "'blah ABI'"
      ]
     },
     "execution_count": 23,
     "metadata": {},
     "output_type": "execute_result"
    }
   ],
   "source": [
    "str(df['Gast'][3].replace('SGM','blah'))"
   ]
  },
  {
   "cell_type": "code",
   "execution_count": null,
   "metadata": {},
   "outputs": [],
   "source": []
  },
  {
   "cell_type": "code",
   "execution_count": null,
   "metadata": {},
   "outputs": [],
   "source": []
  },
  {
   "cell_type": "code",
   "execution_count": null,
   "metadata": {},
   "outputs": [],
   "source": []
  }
 ],
 "metadata": {
  "kernelspec": {
   "display_name": "Python 3",
   "language": "python",
   "name": "python3"
  },
  "language_info": {
   "codemirror_mode": {
    "name": "ipython",
    "version": 3
   },
   "file_extension": ".py",
   "mimetype": "text/x-python",
   "name": "python",
   "nbconvert_exporter": "python",
   "pygments_lexer": "ipython3",
   "version": "3.7.6"
  }
 },
 "nbformat": 4,
 "nbformat_minor": 4
}
