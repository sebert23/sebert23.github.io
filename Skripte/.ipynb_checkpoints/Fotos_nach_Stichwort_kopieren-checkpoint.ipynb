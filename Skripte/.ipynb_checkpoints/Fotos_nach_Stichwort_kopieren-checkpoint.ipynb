{
 "cells": [
  {
   "cell_type": "code",
   "execution_count": 1,
   "metadata": {},
   "outputs": [],
   "source": [
    "import os\n",
    "import shutil"
   ]
  },
  {
   "cell_type": "code",
   "execution_count": 19,
   "metadata": {},
   "outputs": [],
   "source": [
    "def kopiere_fotos_mit_stichwort(stichwort, quelle_ordner, ziel_ordner):\n",
    "    num=0\n",
    "    for ordnername, _, dateinamen in os.walk(quelle_ordner):\n",
    "        for dateiname in dateinamen:\n",
    "            voller_pfad = os.path.join(ordnername, dateiname)\n",
    "            if stichwort.lower() in dateiname.lower():\n",
    "                ziel_pfad = os.path.join(ziel_ordner, dateiname)\n",
    "                shutil.copy2(voller_pfad, ziel_pfad)\n",
    "                num += 1\n",
    "    print(num + \" files kopiert\")"
   ]
  },
  {
   "cell_type": "code",
   "execution_count": 20,
   "metadata": {},
   "outputs": [],
   "source": [
    "stichwort = \"A-Junioren\"\n",
    "quelle = \"/Users/sandra/Documents/GitHub/sebert23.github.io/images\"\n",
    "ziel_ordner = \"/Users/sandra/Desktop/ABI/A-Junioren\"\n",
    "\n",
    "kopiere_fotos_mit_stichwort(stichwort, quelle, ziel_ordner)"
   ]
  },
  {
   "cell_type": "code",
   "execution_count": null,
   "metadata": {},
   "outputs": [],
   "source": []
  }
 ],
 "metadata": {
  "kernelspec": {
   "display_name": "Python 3",
   "language": "python",
   "name": "python3"
  },
  "language_info": {
   "codemirror_mode": {
    "name": "ipython",
    "version": 3
   },
   "file_extension": ".py",
   "mimetype": "text/x-python",
   "name": "python",
   "nbconvert_exporter": "python",
   "pygments_lexer": "ipython3",
   "version": "3.7.6"
  }
 },
 "nbformat": 4,
 "nbformat_minor": 4
}
