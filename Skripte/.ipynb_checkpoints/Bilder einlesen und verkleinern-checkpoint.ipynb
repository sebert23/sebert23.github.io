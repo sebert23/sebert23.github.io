{
 "cells": [
  {
   "cell_type": "code",
   "execution_count": 4,
   "metadata": {},
   "outputs": [],
   "source": [
    "from PIL import Image\n",
    "from PIL.ExifTags import TAGS\n",
    "import os\n",
    "import shutil"
   ]
  },
  {
   "cell_type": "code",
   "execution_count": 5,
   "metadata": {},
   "outputs": [],
   "source": [
    "def get_image_creation_date(image_path):\n",
    "    try:\n",
    "        image = Image.open(image_path)\n",
    "        exif_data = image._getexif()\n",
    "        if exif_data is not None:\n",
    "            for tag, value in exif_data.items():\n",
    "                if TAGS.get(tag) == 'DateTimeOriginal':\n",
    "                    return value\n",
    "    except (IOError, AttributeError):\n",
    "        pass\n",
    "\n",
    "    return None\n",
    "\n"
   ]
  },
  {
   "cell_type": "code",
   "execution_count": 18,
   "metadata": {},
   "outputs": [],
   "source": [
    "def rename_and_resize_files(directory, max_dimension):\n",
    "    for filename in os.listdir(directory):\n",
    "        file_path = os.path.join(directory, filename)\n",
    "        creation_date = get_image_creation_date(file_path)\n",
    "        if creation_date is not None:\n",
    "            new_filename = creation_date.replace(\":\", \"\").replace(\" \", \"_\") + \".jpg\"\n",
    "            new_file_path = os.path.join(directory, new_filename)\n",
    "            #shutil.copy(file_path, new_file_path)\n",
    "            \n",
    "            # Bild öffnen und Größe verändern\n",
    "            image = Image.open(file_path)\n",
    "            image.thumbnail((max_dimension, max_dimension), Image.ANTIALIAS)\n",
    "            image.save(new_file_path, \"JPEG\")\n",
    "            print(f\"Umbenannt: {filename} -> {new_filename}\")\n",
    "        else:\n",
    "            print(f\"Kein Erstellungsdatum vorhanden für: {filename}\")\n",
    "            "
   ]
  },
  {
   "cell_type": "code",
   "execution_count": 19,
   "metadata": {},
   "outputs": [
    {
     "name": "stdout",
     "output_type": "stream",
     "text": [
      "hallo\n",
      "Umbenannt: IMG_3092.JPG -> 20230429_194256.jpg\n",
      "Umbenannt: IMG_3045.JPG -> 20230429_190931.jpg\n",
      "Umbenannt: IMG_3051.JPG -> 20230429_191210.jpg\n",
      "Umbenannt: IMG_2986.JPG -> 20230429_182327.jpg\n",
      "Umbenannt: IMG_2951.JPG -> 20230429_181106.jpg\n",
      "Umbenannt: IMG_3093.JPG -> 20230429_194257.jpg\n",
      "Umbenannt: IMG_2953.JPG -> 20230429_181108.jpg\n",
      "Umbenannt: IMG_2984.JPG -> 20230429_182316.jpg\n",
      "Umbenannt: IMG_2990.JPG -> 20230429_182538.jpg\n",
      "Umbenannt: IMG_2985.JPG -> 20230429_182316.jpg\n",
      "Umbenannt: IMG_3090.JPG -> 20230429_194251.jpg\n",
      "Umbenannt: IMG_3094.JPG -> 20230429_194328.jpg\n",
      "Umbenannt: IMG_2994.JPG -> 20230429_182637.jpg\n",
      "Umbenannt: IMG_3040.JPG -> 20230429_190750.jpg\n",
      "Umbenannt: IMG_2983.JPG -> 20230429_182119.jpg\n",
      "Umbenannt: IMG_2884.JPG -> 20230429_175546.jpg\n",
      "Umbenannt: IMG_2926.JPG -> 20230429_180542.jpg\n",
      "Umbenannt: IMG_3033.JPG -> 20230429_190504.jpg\n",
      "Umbenannt: IMG_2885.JPG -> 20230429_175645.jpg\n",
      "Umbenannt: IMG_2887.JPG -> 20230429_175649.jpg\n",
      "Umbenannt: IMG_3031.JPG -> 20230429_185955.jpg\n",
      "Umbenannt: IMG_2924.JPG -> 20230429_180537.jpg\n",
      "Umbenannt: IMG_2930.JPG -> 20230429_180643.jpg\n",
      "Umbenannt: IMG_2925.JPG -> 20230429_180538.jpg\n",
      "Umbenannt: IMG_3030.JPG -> 20230429_185955.jpg\n",
      "Umbenannt: IMG_3018.JPG -> 20230429_183931.jpg\n",
      "Umbenannt: IMG_2886.JPG -> 20230429_175647.jpg\n",
      "Umbenannt: IMG_3034.JPG -> 20230429_190625.jpg\n",
      "Umbenannt: IMG_3020.JPG -> 20230429_184044.jpg\n",
      "Umbenannt: IMG_3021.JPG -> 20230429_184937.jpg\n",
      "Umbenannt: IMG_3035.JPG -> 20230429_190626.jpg\n",
      "Umbenannt: IMG_2895.JPG -> 20230429_175900.jpg\n",
      "Umbenannt: IMG_3023.JPG -> 20230429_185813.jpg\n",
      "Umbenannt: IMG_2936.JPG -> 20230429_180833.jpg\n",
      "Umbenannt: IMG_2923.JPG -> 20230429_180449.jpg\n",
      "Umbenannt: IMG_3036.JPG -> 20230429_190626.jpg\n",
      "Umbenannt: IMG_3022.JPG -> 20230429_184940.jpg\n",
      "Umbenannt: IMG_3007.JPG -> 20230429_183709.jpg\n",
      "Umbenannt: IMG_2912.JPG -> 20230429_180307.jpg\n",
      "Umbenannt: IMG_2907.JPG -> 20230429_180230.jpg\n",
      "Umbenannt: IMG_2913.JPG -> 20230429_180307.jpg\n",
      "Umbenannt: IMG_3012.JPG -> 20230429_183753.jpg\n",
      "Umbenannt: IMG_2898.JPG -> 20230429_175930.jpg\n",
      "Umbenannt: IMG_3004.JPG -> 20230429_183546.jpg\n",
      "Umbenannt: IMG_2939.JPG -> 20230429_180851.jpg\n",
      "Umbenannt: IMG_2905.JPG -> 20230429_180103.jpg\n",
      "Umbenannt: IMG_2904.JPG -> 20230429_180033.jpg\n",
      "Umbenannt: IMG_2938.JPG -> 20230429_180850.jpg\n",
      "Umbenannt: IMG_3005.JPG -> 20230429_183546.jpg\n",
      "Umbenannt: IMG_3015.JPG -> 20230429_183858.jpg\n",
      "Umbenannt: IMG_3029.JPG -> 20230429_185955.jpg\n",
      "Umbenannt: IMG_2900.JPG -> 20230429_175936.jpg\n",
      "Umbenannt: IMG_2914.JPG -> 20230429_180334.jpg\n",
      "Umbenannt: IMG_2915.JPG -> 20230429_180348.jpg\n",
      "Umbenannt: IMG_2901.JPG -> 20230429_175942.jpg\n",
      "Umbenannt: IMG_3028.JPG -> 20230429_185954.jpg\n",
      "Umbenannt: IMG_3014.JPG -> 20230429_183845.jpg\n",
      "Umbenannt: IMG_2888.JPG -> 20230429_175649.jpg\n",
      "Umbenannt: IMG_3002.JPG -> 20230429_183529.jpg\n",
      "Umbenannt: IMG_2917.JPG -> 20230429_180400.jpg\n",
      "Umbenannt: IMG_2902.JPG -> 20230429_180011.jpg\n",
      "Umbenannt: IMG_2916.JPG -> 20230429_180357.jpg\n",
      "Umbenannt: IMG_3064.JPG -> 20230429_191619.jpg\n",
      "Umbenannt: IMG_3104.JPG -> 20230429_194909.jpg\n",
      "Umbenannt: IMG_2959.JPG -> 20230429_181150.jpg\n",
      "Umbenannt: IMG_2970.JPG -> 20230429_181647.jpg\n",
      "Umbenannt: IMG_3105.JPG -> 20230429_194919.jpg\n",
      "Umbenannt: IMG_3059.JPG -> 20230429_191436.jpg\n",
      "Umbenannt: IMG_3089.JPG -> 20230429_194251.jpg\n",
      "Umbenannt: IMG_2977.JPG -> 20230429_182035.jpg\n",
      "Umbenannt: IMG_3103.JPG -> 20230429_194905.jpg\n",
      "Umbenannt: IMG_3101.JPG -> 20230429_194708.jpg\n",
      "Umbenannt: IMG_2974.JPG -> 20230429_181708.jpg\n",
      "Umbenannt: IMG_2960.JPG -> 20230429_181204.jpg\n",
      "Umbenannt: IMG_2948.JPG -> 20230429_181004.jpg\n",
      "Umbenannt: IMG_2949.JPG -> 20230429_181102.jpg\n",
      "Umbenannt: IMG_2961.JPG -> 20230429_181205.jpg\n",
      "Umbenannt: IMG_2975.JPG -> 20230429_181724.jpg\n"
     ]
    }
   ],
   "source": [
    "directory = \"/Users/sandra/Desktop/ABI/A-Junioren/Kobra/\"\n",
    "rename_files_by_creation_date(directory)"
   ]
  },
  {
   "cell_type": "code",
   "execution_count": 3,
   "metadata": {},
   "outputs": [
    {
     "name": "stdout",
     "output_type": "stream",
     "text": [
      "Erstellungsdatum: 2023:04:29 19:49:19\n"
     ]
    }
   ],
   "source": [
    "# Beispielaufruf\n",
    "image_path = \"/Users/sandra/Desktop/ABI/A-Junioren/Kobra/\"\n",
    "creation_date = get_image_creation_date(image_path)\n",
    "\n",
    "if creation_date is not None:\n",
    "    print(\"Erstellungsdatum:\", creation_date)\n",
    "else:\n",
    "    print(\"Erstellungsdatum nicht verfügbar oder Bild hat kein Erstellungsdatum.\")\n"
   ]
  },
  {
   "cell_type": "code",
   "execution_count": null,
   "metadata": {},
   "outputs": [],
   "source": []
  }
 ],
 "metadata": {
  "kernelspec": {
   "display_name": "Python 3",
   "language": "python",
   "name": "python3"
  },
  "language_info": {
   "codemirror_mode": {
    "name": "ipython",
    "version": 3
   },
   "file_extension": ".py",
   "mimetype": "text/x-python",
   "name": "python",
   "nbconvert_exporter": "python",
   "pygments_lexer": "ipython3",
   "version": "3.7.6"
  }
 },
 "nbformat": 4,
 "nbformat_minor": 4
}
